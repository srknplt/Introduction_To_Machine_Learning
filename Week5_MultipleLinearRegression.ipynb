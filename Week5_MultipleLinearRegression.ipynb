{
  "nbformat": 4,
  "nbformat_minor": 0,
  "metadata": {
    "colab": {
      "name": "Week5-MultipleLinearRegression.ipynb",
      "provenance": [],
      "collapsed_sections": [],
      "authorship_tag": "ABX9TyOrWadit91tiznQdGKnGTos",
      "include_colab_link": true
    },
    "kernelspec": {
      "name": "python3",
      "display_name": "Python 3"
    },
    "language_info": {
      "name": "python"
    }
  },
  "cells": [
    {
      "cell_type": "markdown",
      "metadata": {
        "id": "view-in-github",
        "colab_type": "text"
      },
      "source": [
        "<a href=\"https://colab.research.google.com/github/srknplt/Introduction_To_Machine_Learning/blob/main/Week5_MultipleLinearRegression.ipynb\" target=\"_parent\"><img src=\"https://colab.research.google.com/assets/colab-badge.svg\" alt=\"Open In Colab\"/></a>"
      ]
    },
    {
      "cell_type": "code",
      "execution_count": 1,
      "metadata": {
        "id": "sUnXVld4doON"
      },
      "outputs": [],
      "source": [
        "import pandas as pd\n",
        "import numpy as np\n",
        "import matplotlib.pyplot as plt\n",
        "from sklearn.linear_model import LinearRegression"
      ]
    },
    {
      "cell_type": "code",
      "source": [
        "df = pd.read_csv(\"multiple-linear-regression-dataset.csv\",sep = \";\")\n",
        "x = df.iloc[:, [0,2]].values\n",
        "y = df.salary.values.reshape(-1,1)"
      ],
      "metadata": {
        "id": "EfRoMDereLHd"
      },
      "execution_count": 3,
      "outputs": []
    },
    {
      "cell_type": "code",
      "source": [
        "#fitting data\n",
        "multiple_linear_regression = LinearRegression()\n",
        "multiple_linear_regression.fit(x,y)\n",
        "\n",
        "print(\"b0: \", multiple_linear_regression.intercept_)\n",
        "print(\"b1,b2: \", multiple_linear_regression.coef_)"
      ],
      "metadata": {
        "colab": {
          "base_uri": "https://localhost:8080/"
        },
        "id": "rdWXJxbAeSSS",
        "outputId": "7690e4e0-f7ec-4535-d60d-17f47da09566"
      },
      "execution_count": 4,
      "outputs": [
        {
          "output_type": "stream",
          "name": "stdout",
          "text": [
            "b0:  [10376.62747228]\n",
            "b1,b2:  [[1525.50072054 -416.72218625]]\n"
          ]
        }
      ]
    },
    {
      "cell_type": "code",
      "source": [
        "#tahmin\n",
        "multiple_linear_regression.predict(np.array([[10,35],[5,35]]))"
      ],
      "metadata": {
        "colab": {
          "base_uri": "https://localhost:8080/"
        },
        "id": "kQMk765Xe-Qb",
        "outputId": "05629c11-9f5a-4a85-e879-f55897636ca8"
      },
      "execution_count": 6,
      "outputs": [
        {
          "output_type": "execute_result",
          "data": {
            "text/plain": [
              "array([[11046.35815877],\n",
              "       [ 3418.85455609]])"
            ]
          },
          "metadata": {},
          "execution_count": 6
        }
      ]
    },
    {
      "cell_type": "code",
      "source": [
        ""
      ],
      "metadata": {
        "id": "z5PjXPkEfR_X"
      },
      "execution_count": null,
      "outputs": []
    }
  ]
}