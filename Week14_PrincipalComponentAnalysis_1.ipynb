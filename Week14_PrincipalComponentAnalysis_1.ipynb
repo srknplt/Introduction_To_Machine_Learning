{
  "nbformat": 4,
  "nbformat_minor": 0,
  "metadata": {
    "colab": {
      "name": "Week14_PrincipalComponentAnalysis-1.ipynb",
      "provenance": [],
      "collapsed_sections": [],
      "authorship_tag": "ABX9TyMGomLq7OdHtIREkK2Bdu/q",
      "include_colab_link": true
    },
    "kernelspec": {
      "name": "python3",
      "display_name": "Python 3"
    },
    "language_info": {
      "name": "python"
    }
  },
  "cells": [
    {
      "cell_type": "markdown",
      "metadata": {
        "id": "view-in-github",
        "colab_type": "text"
      },
      "source": [
        "<a href=\"https://colab.research.google.com/github/srknplt/Introduction_To_Machine_Learning/blob/main/Week14_PrincipalComponentAnalysis_1.ipynb\" target=\"_parent\"><img src=\"https://colab.research.google.com/assets/colab-badge.svg\" alt=\"Open In Colab\"/></a>"
      ]
    },
    {
      "cell_type": "code",
      "execution_count": null,
      "metadata": {
        "id": "fDmTOhTk8yFs"
      },
      "outputs": [],
      "source": [
        "from sklearn.datasets import load_iris\n",
        "import pandas as pd\n",
        "\n",
        "\n",
        "iris = load_iris()\n",
        "\n",
        "data = iris.data\n",
        "feature_names = iris.feature_names\n",
        "y = iris.target\n",
        "\n",
        "df = pd.DataFrame(data,columns = feature_names)\n",
        "df[\"sinif\"] = y\n",
        "\n",
        "x = data"
      ]
    },
    {
      "cell_type": "code",
      "source": [
        "from sklearn.decomposition import PCA\n",
        "pca = PCA(n_components = 2, whiten= True )  # whitten = normalize\n",
        "pca.fit(x)\n",
        "\n",
        "x_pca = pca.transform(x)\n",
        "\n",
        "print(\"variance ratio: \", pca.explained_variance_ratio_)\n",
        "\n",
        "print(\"sum: \",sum(pca.explained_variance_ratio_))"
      ],
      "metadata": {
        "id": "LywtaIM388Mb"
      },
      "execution_count": null,
      "outputs": []
    },
    {
      "cell_type": "code",
      "source": [
        "df[\"p1\"] = x_pca[:,0]\n",
        "df[\"p2\"] = x_pca[:,1]\n",
        "\n",
        "color = [\"red\",\"green\",\"blue\"]\n",
        "\n",
        "import matplotlib.pyplot as plt\n",
        "for each in range(3):\n",
        "    plt.scatter(df.p1[df.sinif == each],df.p2[df.sinif == each],color = color[each],label = iris.target_names[each])\n",
        "    \n",
        "plt.legend()\n",
        "plt.xlabel(\"p1\")\n",
        "plt.ylabel(\"p2\")\n",
        "plt.show()"
      ],
      "metadata": {
        "id": "RrRjTtEz9GUv"
      },
      "execution_count": null,
      "outputs": []
    }
  ]
}