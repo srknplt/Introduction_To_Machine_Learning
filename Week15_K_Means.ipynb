{
  "nbformat": 4,
  "nbformat_minor": 0,
  "metadata": {
    "colab": {
      "name": "Week15_K-Means.ipynb",
      "provenance": [],
      "collapsed_sections": [],
      "authorship_tag": "ABX9TyMw/dIEQiY7O8s0ci9D+ep1",
      "include_colab_link": true
    },
    "kernelspec": {
      "name": "python3",
      "display_name": "Python 3"
    },
    "language_info": {
      "name": "python"
    }
  },
  "cells": [
    {
      "cell_type": "markdown",
      "metadata": {
        "id": "view-in-github",
        "colab_type": "text"
      },
      "source": [
        "<a href=\"https://colab.research.google.com/github/srknplt/Introduction_To_Machine_Learning/blob/main/Week15_K_Means.ipynb\" target=\"_parent\"><img src=\"https://colab.research.google.com/assets/colab-badge.svg\" alt=\"Open In Colab\"/></a>"
      ]
    },
    {
      "cell_type": "code",
      "execution_count": 1,
      "metadata": {
        "id": "HRF1ap1Y3FD5"
      },
      "outputs": [],
      "source": [
        "import numpy as np\n",
        "import pandas as pd\n",
        "import matplotlib.pyplot as plt\n",
        "\n",
        "x1 = np.random.normal(25,5,1000)\n",
        "y1 = np.random.normal(25,5,1000)\n",
        "\n",
        "x2 = np.random.normal(55,5,1000)\n",
        "y2 = np.random.normal(60,5,1000)\n",
        "\n",
        "x3 = np.random.normal(55,5,1000)\n",
        "y3 = np.random.normal(15,5,1000)"
      ]
    },
    {
      "cell_type": "code",
      "source": [
        "x = np.concatenate((x1,x2,x3),axis = 0)\n",
        "y = np.concatenate((y1,y2,y3),axis = 0)"
      ],
      "metadata": {
        "id": "MHE0sKSW5mzU"
      },
      "execution_count": 2,
      "outputs": []
    },
    {
      "cell_type": "code",
      "source": [
        "dictionary = {\"x\":x,\"y\":y}\n",
        "\n",
        "data = pd.DataFrame(dictionary)\n",
        "\n",
        "plt.scatter(x1,y1)\n",
        "plt.scatter(x2,y2)\n",
        "plt.scatter(x3,y3)\n",
        "plt.show()\n"
      ],
      "metadata": {
        "id": "x7ssN2bL58Ma"
      },
      "execution_count": null,
      "outputs": []
    },
    {
      "cell_type": "code",
      "source": [
        "from sklearn.cluster import KMeans\n",
        "wcss = []\n",
        "\n",
        "for k in range(1,15):\n",
        "  kmeans = KMeans(n_clusters=k)\n",
        "  kmeans.fit(data)\n",
        "  wcss.append(kmeans.inertia_)\n",
        "\n",
        "  plt.plot(range(1,15),wcss)\n",
        "  plt.xlabel(\"number of k (cluster value\")\n",
        "  plt.ylabel(\"wcss\")\n",
        "  plt.show()"
      ],
      "metadata": {
        "id": "S-8RAMK-6Ved"
      },
      "execution_count": null,
      "outputs": []
    },
    {
      "cell_type": "code",
      "source": [
        "kmeans2 =KMeans(n_clusters=3)\n",
        "clusters = kmeans2.fit_predict(data)\n",
        "\n",
        "data[\"label\"] = clusters\n",
        "\n",
        "plt.scatter(data.x[data.label == 0],data.y[data.label == 0],color = \"red\")\n",
        "plt.scatter(data.x[data.label == 1],data.y[data.label == 1],color = \"green\")\n",
        "plt.scatter(data.x[data.label == 2],data.y[data.label == 2],color = \"blue\")\n",
        "plt.scatter(kmeans.cluster_centers_[:,0],kmeans2.cluster_centers_[:,1],color = \"yellow\")\n",
        "plt.show()"
      ],
      "metadata": {
        "id": "i69Pac0n7LO7"
      },
      "execution_count": null,
      "outputs": []
    }
  ]
}