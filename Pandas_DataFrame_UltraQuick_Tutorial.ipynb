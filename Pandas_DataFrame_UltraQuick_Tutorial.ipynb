{
  "nbformat": 4,
  "nbformat_minor": 0,
  "metadata": {
    "colab": {
      "name": "Pandas DataFrame UltraQuick Tutorial.ipynb",
      "provenance": [],
      "collapsed_sections": [],
      "authorship_tag": "ABX9TyNekDn80aSjEe2k+XP3YWbR",
      "include_colab_link": true
    },
    "kernelspec": {
      "name": "python3",
      "display_name": "Python 3"
    },
    "language_info": {
      "name": "python"
    }
  },
  "cells": [
    {
      "cell_type": "markdown",
      "metadata": {
        "id": "view-in-github",
        "colab_type": "text"
      },
      "source": [
        "<a href=\"https://colab.research.google.com/github/srknplt/Introduction_To_Machine_Learning/blob/main/Pandas_DataFrame_UltraQuick_Tutorial.ipynb\" target=\"_parent\"><img src=\"https://colab.research.google.com/assets/colab-badge.svg\" alt=\"Open In Colab\"/></a>"
      ]
    },
    {
      "cell_type": "code",
      "execution_count": 5,
      "metadata": {
        "id": "e8UzXj09TyJC"
      },
      "outputs": [],
      "source": [
        "import numpy as np\n",
        "import pandas as dp"
      ]
    },
    {
      "cell_type": "code",
      "source": [
        "my_data = np.array([0,3],[10,7],[20,9],[30,14],[40,15])\n",
        "\n",
        "my_column_names = ['temperature','activity']\n",
        "\n",
        "my_dataframe = pd.DataFrame(data=my_data,columns=my_column_names)\n",
        "\n",
        "print(my_Dataframe)"
      ],
      "metadata": {
        "colab": {
          "base_uri": "https://localhost:8080/",
          "height": 235
        },
        "id": "YZ6koF77T_Ms",
        "outputId": "da4047b2-1eed-43fb-f078-b4f8f6aa2963"
      },
      "execution_count": 8,
      "outputs": [
        {
          "output_type": "error",
          "ename": "TypeError",
          "evalue": "ignored",
          "traceback": [
            "\u001b[0;31m---------------------------------------------------------------------------\u001b[0m",
            "\u001b[0;31mTypeError\u001b[0m                                 Traceback (most recent call last)",
            "\u001b[0;32m<ipython-input-8-dd9b8e550def>\u001b[0m in \u001b[0;36m<module>\u001b[0;34m()\u001b[0m\n\u001b[1;32m      1\u001b[0m \u001b[0;31m#Create and populate a 5x2 NumPy array.\u001b[0m\u001b[0;34m\u001b[0m\u001b[0;34m\u001b[0m\u001b[0;34m\u001b[0m\u001b[0m\n\u001b[0;32m----> 2\u001b[0;31m \u001b[0mmy_data\u001b[0m \u001b[0;34m=\u001b[0m \u001b[0mnp\u001b[0m\u001b[0;34m.\u001b[0m\u001b[0marray\u001b[0m\u001b[0;34m(\u001b[0m\u001b[0;34m[\u001b[0m\u001b[0;36m0\u001b[0m\u001b[0;34m,\u001b[0m\u001b[0;36m3\u001b[0m\u001b[0;34m]\u001b[0m\u001b[0;34m,\u001b[0m\u001b[0;34m[\u001b[0m\u001b[0;36m10\u001b[0m\u001b[0;34m,\u001b[0m\u001b[0;36m7\u001b[0m\u001b[0;34m]\u001b[0m\u001b[0;34m,\u001b[0m\u001b[0;34m[\u001b[0m\u001b[0;36m20\u001b[0m\u001b[0;34m,\u001b[0m\u001b[0;36m9\u001b[0m\u001b[0;34m]\u001b[0m\u001b[0;34m,\u001b[0m\u001b[0;34m[\u001b[0m\u001b[0;36m30\u001b[0m\u001b[0;34m,\u001b[0m\u001b[0;36m14\u001b[0m\u001b[0;34m]\u001b[0m\u001b[0;34m,\u001b[0m\u001b[0;34m[\u001b[0m\u001b[0;36m40\u001b[0m\u001b[0;34m,\u001b[0m\u001b[0;36m15\u001b[0m\u001b[0;34m]\u001b[0m\u001b[0;34m)\u001b[0m\u001b[0;34m\u001b[0m\u001b[0;34m\u001b[0m\u001b[0m\n\u001b[0m\u001b[1;32m      3\u001b[0m \u001b[0;34m\u001b[0m\u001b[0m\n\u001b[1;32m      4\u001b[0m \u001b[0;31m#Create a Python list that holds the names of the two columns.\u001b[0m\u001b[0;34m\u001b[0m\u001b[0;34m\u001b[0m\u001b[0;34m\u001b[0m\u001b[0m\n\u001b[1;32m      5\u001b[0m \u001b[0mmy_column_names\u001b[0m \u001b[0;34m=\u001b[0m \u001b[0;34m[\u001b[0m\u001b[0;34m'temperature'\u001b[0m\u001b[0;34m,\u001b[0m\u001b[0;34m'activity'\u001b[0m\u001b[0;34m]\u001b[0m\u001b[0;34m\u001b[0m\u001b[0;34m\u001b[0m\u001b[0m\n",
            "\u001b[0;31mTypeError\u001b[0m: array() takes from 1 to 2 positional arguments but 5 were given"
          ]
        }
      ]
    },
    {
      "cell_type": "code",
      "source": [
        "my_dataframe = [\"adjusted\"] = my_dataframe[\"activity\"]+2\n",
        "\n",
        "print(my_dataframe)"
      ],
      "metadata": {
        "colab": {
          "base_uri": "https://localhost:8080/",
          "height": 130
        },
        "id": "lh0fDiC7UUFk",
        "outputId": "79c4bd29-3910-4848-cb44-122561c46b3b"
      },
      "execution_count": 12,
      "outputs": [
        {
          "output_type": "error",
          "ename": "SyntaxError",
          "evalue": "ignored",
          "traceback": [
            "\u001b[0;36m  File \u001b[0;32m\"<ipython-input-12-7f1d92d5b7a8>\"\u001b[0;36m, line \u001b[0;32m2\u001b[0m\n\u001b[0;31m    my_dataframe = [\"adjusted\"] = my_dataframe[\"activity\"]+2\u001b[0m\n\u001b[0m                  ^\u001b[0m\n\u001b[0;31mSyntaxError\u001b[0m\u001b[0;31m:\u001b[0m can't assign to literal\n"
          ]
        }
      ]
    },
    {
      "cell_type": "code",
      "source": [
        "print(\"Rows #0, #1, and #2:\")\n",
        "print(my_dataframe.head(3), '\\n')\n",
        "\n",
        "print(\"Row #2:\")\n",
        "print(my_dataframe.iloc[[2]], '\\n')\n",
        "\n",
        "print(\"Rows #1, #2, and #3:\")\n",
        "print(my_dataframe[1:4], '\\n')\n",
        "\n",
        "print(\"Column 'temperature':\")\n",
        "print(my_dataframe['temperature'])"
      ],
      "metadata": {
        "colab": {
          "base_uri": "https://localhost:8080/",
          "height": 252
        },
        "id": "5jPm66rEXj1w",
        "outputId": "b3eabc46-45ae-4aba-fee3-6f3564d31cec"
      },
      "execution_count": 13,
      "outputs": [
        {
          "output_type": "stream",
          "name": "stdout",
          "text": [
            "Rows #0, #1, and #2:\n"
          ]
        },
        {
          "output_type": "error",
          "ename": "NameError",
          "evalue": "ignored",
          "traceback": [
            "\u001b[0;31m---------------------------------------------------------------------------\u001b[0m",
            "\u001b[0;31mNameError\u001b[0m                                 Traceback (most recent call last)",
            "\u001b[0;32m<ipython-input-13-eac8211be062>\u001b[0m in \u001b[0;36m<module>\u001b[0;34m()\u001b[0m\n\u001b[1;32m      1\u001b[0m \u001b[0mprint\u001b[0m\u001b[0;34m(\u001b[0m\u001b[0;34m\"Rows #0, #1, and #2:\"\u001b[0m\u001b[0;34m)\u001b[0m\u001b[0;34m\u001b[0m\u001b[0;34m\u001b[0m\u001b[0m\n\u001b[0;32m----> 2\u001b[0;31m \u001b[0mprint\u001b[0m\u001b[0;34m(\u001b[0m\u001b[0mmy_dataframe\u001b[0m\u001b[0;34m.\u001b[0m\u001b[0mhead\u001b[0m\u001b[0;34m(\u001b[0m\u001b[0;36m3\u001b[0m\u001b[0;34m)\u001b[0m\u001b[0;34m,\u001b[0m \u001b[0;34m'\\n'\u001b[0m\u001b[0;34m)\u001b[0m\u001b[0;34m\u001b[0m\u001b[0;34m\u001b[0m\u001b[0m\n\u001b[0m\u001b[1;32m      3\u001b[0m \u001b[0;34m\u001b[0m\u001b[0m\n\u001b[1;32m      4\u001b[0m \u001b[0mprint\u001b[0m\u001b[0;34m(\u001b[0m\u001b[0;34m\"Row #2:\"\u001b[0m\u001b[0;34m)\u001b[0m\u001b[0;34m\u001b[0m\u001b[0;34m\u001b[0m\u001b[0m\n\u001b[1;32m      5\u001b[0m \u001b[0mprint\u001b[0m\u001b[0;34m(\u001b[0m\u001b[0mmy_dataframe\u001b[0m\u001b[0;34m.\u001b[0m\u001b[0miloc\u001b[0m\u001b[0;34m[\u001b[0m\u001b[0;34m[\u001b[0m\u001b[0;36m2\u001b[0m\u001b[0;34m]\u001b[0m\u001b[0;34m]\u001b[0m\u001b[0;34m,\u001b[0m \u001b[0;34m'\\n'\u001b[0m\u001b[0;34m)\u001b[0m\u001b[0;34m\u001b[0m\u001b[0;34m\u001b[0m\u001b[0m\n",
            "\u001b[0;31mNameError\u001b[0m: name 'my_dataframe' is not defined"
          ]
        }
      ]
    },
    {
      "cell_type": "code",
      "source": [
        "\n",
        "my_column_names = ['Eleanor', 'Chidi', 'Tahani', 'Jason']\n",
        "\n",
        "my_data = np.random.randint(low=0, high=101, size=(3, 4))\n",
        "\n",
        "df = pd.DataFrame(data=my_data, columns=my_column_names)\n",
        "\n",
        "print(df)\n",
        "\n",
        "print(\"\\nSecond row of the Eleanor column: %d\\n\" % df['Eleanor'][1])\n",
        "\n",
        "df['Janet'] = df['Tahani'] + df['Jason']\n",
        "\n",
        "print(df)"
      ],
      "metadata": {
        "id": "xYO4OlfAYPV5"
      },
      "execution_count": null,
      "outputs": []
    },
    {
      "cell_type": "code",
      "source": [
        "print(\"Experiment with a reference:\")\n",
        "reference_to_df = df\n",
        "\n",
        "print(\"  Starting value of df: %d\" % df['Jason'][1])\n",
        "print(\"  Starting value of reference_to_df: %d\\n\" % reference_to_df['Jason'][1])\n",
        "\n",
        "df.at[1, 'Jason'] = df['Jason'][1] + 5\n",
        "print(\"  Updated df: %d\" % df['Jason'][1])\n",
        "print(\"  Updated reference_to_df: %d\\n\\n\" % reference_to_df['Jason'][1])\n",
        "\n",
        "print(\"Experiment with a true copy:\")\n",
        "copy_of_my_dataframe = my_dataframe.copy()\n",
        "\n",
        "print(\"  Starting value of my_dataframe: %d\" % my_dataframe['activity'][1])\n",
        "print(\"  Starting value of copy_of_my_dataframe: %d\\n\" % copy_of_my_dataframe['activity'][1])\n",
        "\n",
        "my_dataframe.at[1, 'activity'] = my_dataframe['activity'][1] + 3\n",
        "print(\"  Updated my_dataframe: %d\" % my_dataframe['activity'][1])\n",
        "print(\"  copy_of_my_dataframe does not get updated: %d\" % copy_of_my_dataframe['activity'][1])"
      ],
      "metadata": {
        "id": "Ev1M_lt5Yn3D"
      },
      "execution_count": null,
      "outputs": []
    }
  ]
}