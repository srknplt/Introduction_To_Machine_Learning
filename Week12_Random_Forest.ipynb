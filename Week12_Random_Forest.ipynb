{
  "nbformat": 4,
  "nbformat_minor": 0,
  "metadata": {
    "colab": {
      "name": "Week12-Random_Forest.ipynb",
      "provenance": [],
      "authorship_tag": "ABX9TyMb7tvE97NQ2xRmzFMcSwOz",
      "include_colab_link": true
    },
    "kernelspec": {
      "name": "python3",
      "display_name": "Python 3"
    },
    "language_info": {
      "name": "python"
    }
  },
  "cells": [
    {
      "cell_type": "markdown",
      "metadata": {
        "id": "view-in-github",
        "colab_type": "text"
      },
      "source": [
        "<a href=\"https://colab.research.google.com/github/srknplt/Introduction_To_Machine_Learning/blob/main/Week12_Random_Forest.ipynb\" target=\"_parent\"><img src=\"https://colab.research.google.com/assets/colab-badge.svg\" alt=\"Open In Colab\"/></a>"
      ]
    },
    {
      "cell_type": "code",
      "execution_count": null,
      "metadata": {
        "id": "O9QWl2HvZGZ6"
      },
      "outputs": [],
      "source": [
        "import pandas as pd\n",
        "import numpy as np\n",
        "#împort data\n",
        "data = pd.read_csv(\"data.csv\")\n",
        "data.drop([\"id\",\"Unnamed: 32\"],axis = 1, inplace =True)"
      ]
    },
    {
      "cell_type": "code",
      "source": [
        "data.diagnosis = [1 if each == \"M\" else 0 for each in data.diagnosis]\n",
        "y = data.diagnosis.values\n",
        "x_data = data.drop([\"diagnosis\"],axis = 1)\n",
        "\n",
        "#normalization\n",
        "x = (x_data - np.min(x_data))/(np.max(x_data)) - np.min(x_data))"
      ],
      "metadata": {
        "id": "X6rPhetHZnoA"
      },
      "execution_count": null,
      "outputs": []
    },
    {
      "cell_type": "code",
      "source": [
        "from sklearn.model_selection import train_test_split\n",
        "x_train, x_test, y_train, y_test = train_test_split(x,y,test_size = 0.15, random_state = 42)"
      ],
      "metadata": {
        "id": "Q7-xq555aQyR"
      },
      "execution_count": null,
      "outputs": []
    },
    {
      "cell_type": "code",
      "source": [
        "from sklearn.tree import DecisionTreeClassifier\n",
        "dt = DecisionTreeClassifier()\n",
        "dt.fit(x_train,y_train)\n",
        "print(\"Decision Tree Score : \", dt.score(x_test,y_test))\n"
      ],
      "metadata": {
        "id": "TPGYglLhanKp"
      },
      "execution_count": null,
      "outputs": []
    },
    {
      "cell_type": "code",
      "source": [
        "from sklearn.ensemble import RandomForestClassifier\n",
        "rf = RandomForestClassifier(n_estimators = 100, random_state = 1)\n",
        "rf.fit(x_train,y_train)\n",
        "print(\"Random Forest Algorithm Result : \", rf.score(x_test,y_test))"
      ],
      "metadata": {
        "id": "M4ZelqIXbDHz"
      },
      "execution_count": null,
      "outputs": []
    }
  ]
}