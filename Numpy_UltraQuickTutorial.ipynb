{
  "nbformat": 4,
  "nbformat_minor": 0,
  "metadata": {
    "colab": {
      "name": "Numpy UltraQuickTutorial.ipynb",
      "provenance": [],
      "collapsed_sections": [],
      "authorship_tag": "ABX9TyOlJD/FF3jZ9vf9EZ0e3r/q",
      "include_colab_link": true
    },
    "kernelspec": {
      "name": "python3",
      "display_name": "Python 3"
    },
    "language_info": {
      "name": "python"
    }
  },
  "cells": [
    {
      "cell_type": "markdown",
      "metadata": {
        "id": "view-in-github",
        "colab_type": "text"
      },
      "source": [
        "<a href=\"https://colab.research.google.com/github/srknplt/Introduction_To_Machine_Learning/blob/main/Numpy_UltraQuickTutorial.ipynb\" target=\"_parent\"><img src=\"https://colab.research.google.com/assets/colab-badge.svg\" alt=\"Open In Colab\"/></a>"
      ]
    },
    {
      "cell_type": "code",
      "execution_count": null,
      "metadata": {
        "id": "ZfrjU_lHPD9X"
      },
      "outputs": [],
      "source": [
        "import numpy as np "
      ]
    },
    {
      "cell_type": "code",
      "source": [
        "one_dimensional_array = np.array([1.2, 2.4, 3.5, 4.7, 6.1, 7.2, 8.3, 9.5])\n",
        "print(one_dimensional_array)"
      ],
      "metadata": {
        "colab": {
          "base_uri": "https://localhost:8080/"
        },
        "id": "N16-nT0sPndV",
        "outputId": "13073cd6-459f-45af-ba50-8a165ee99e0f"
      },
      "execution_count": null,
      "outputs": [
        {
          "output_type": "stream",
          "name": "stdout",
          "text": [
            "[1.2 2.4 3.5 4.7 6.1 7.2 8.3 9.5]\n"
          ]
        }
      ]
    },
    {
      "cell_type": "code",
      "source": [
        "two_dimensional_array = np.array([[6, 5], [11, 7], [4, 8]])\n",
        "print(two_dimensional_array)"
      ],
      "metadata": {
        "colab": {
          "base_uri": "https://localhost:8080/"
        },
        "id": "6ZY6Bj9gPp5v",
        "outputId": "0efa3ec2-724a-4c50-d2f4-aa9bec0e7b00"
      },
      "execution_count": null,
      "outputs": [
        {
          "output_type": "stream",
          "name": "stdout",
          "text": [
            "[[ 6  5]\n",
            " [11  7]\n",
            " [ 4  8]]\n"
          ]
        }
      ]
    },
    {
      "cell_type": "code",
      "source": [
        "sequence_of_integers = np.arange(5, 12)\n",
        "print(sequence_of_integers)"
      ],
      "metadata": {
        "colab": {
          "base_uri": "https://localhost:8080/"
        },
        "id": "2T4w1uJcPrml",
        "outputId": "1f9d6d72-6da9-4b63-bf59-7c47d4cf0584"
      },
      "execution_count": null,
      "outputs": [
        {
          "output_type": "stream",
          "name": "stdout",
          "text": [
            "[ 5  6  7  8  9 10 11]\n"
          ]
        }
      ]
    },
    {
      "cell_type": "code",
      "source": [
        "random_integers_between_50_and_100 = np.random.randint(low=50, high=101, size=(6))\n",
        "print(random_integers_between_50_and_100)"
      ],
      "metadata": {
        "colab": {
          "base_uri": "https://localhost:8080/"
        },
        "id": "ZQKACHSMPtnv",
        "outputId": "c82c69f5-806a-4b5c-f14e-d7e8a90f6076"
      },
      "execution_count": null,
      "outputs": [
        {
          "output_type": "stream",
          "name": "stdout",
          "text": [
            "[70 53 69 84 82 67]\n"
          ]
        }
      ]
    },
    {
      "cell_type": "code",
      "source": [
        "random_floats_between_0_and_1 = np.random.random([6])\n",
        "print(random_floats_between_0_and_1) "
      ],
      "metadata": {
        "colab": {
          "base_uri": "https://localhost:8080/"
        },
        "id": "UHCigqXePwKc",
        "outputId": "4065102c-f140-4ab3-b939-09c05635ea5b"
      },
      "execution_count": null,
      "outputs": [
        {
          "output_type": "stream",
          "name": "stdout",
          "text": [
            "[0.77763652 0.00303    0.15512005 0.2238759  0.34506348 0.02206537]\n"
          ]
        }
      ]
    },
    {
      "cell_type": "code",
      "source": [
        "random_floats_between_2_and_3 = random_floats_between_0_and_1 + 2.0\n",
        "print(random_floats_between_2_and_3)"
      ],
      "metadata": {
        "colab": {
          "base_uri": "https://localhost:8080/"
        },
        "id": "uf9zpF5QP3t1",
        "outputId": "dd74010c-9a28-4347-c985-79d649b3b18b"
      },
      "execution_count": null,
      "outputs": [
        {
          "output_type": "stream",
          "name": "stdout",
          "text": [
            "[2.77763652 2.00303    2.15512005 2.2238759  2.34506348 2.02206537]\n"
          ]
        }
      ]
    },
    {
      "cell_type": "code",
      "source": [
        "random_integers_between_150_and_300 = random_integers_between_50_and_100 * 3\n",
        "print(random_integers_between_150_and_300)"
      ],
      "metadata": {
        "colab": {
          "base_uri": "https://localhost:8080/"
        },
        "id": "KzPr4zWqP6NQ",
        "outputId": "f2f7ef1d-8584-4f5d-adcd-5086cf4b8fad"
      },
      "execution_count": null,
      "outputs": [
        {
          "output_type": "stream",
          "name": "stdout",
          "text": [
            "[210 159 207 252 246 201]\n"
          ]
        }
      ]
    },
    {
      "cell_type": "code",
      "source": [
        "feature = np.arange(6, 21)\n",
        "print(feature)\n",
        "label = (feature * 3) + 4\n",
        "print(label)"
      ],
      "metadata": {
        "colab": {
          "base_uri": "https://localhost:8080/"
        },
        "id": "iaPBshVuQo7u",
        "outputId": "eeaceacd-38ab-4e42-f255-5008d4a0c6ff"
      },
      "execution_count": null,
      "outputs": [
        {
          "output_type": "stream",
          "name": "stdout",
          "text": [
            "[ 6  7  8  9 10 11 12 13 14 15 16 17 18 19 20]\n",
            "[22 25 28 31 34 37 40 43 46 49 52 55 58 61 64]\n"
          ]
        }
      ]
    },
    {
      "cell_type": "code",
      "source": [
        "noise = (np.random.random([15]) * 4) - 2\n",
        "print(noise)\n",
        "label = label + noise \n",
        "print(label)"
      ],
      "metadata": {
        "colab": {
          "base_uri": "https://localhost:8080/"
        },
        "id": "ABATBrfTQrfI",
        "outputId": "61903563-2cb9-4344-e53d-798b0b564170"
      },
      "execution_count": null,
      "outputs": [
        {
          "output_type": "stream",
          "name": "stdout",
          "text": [
            "[ 0.28988701 -1.92644232 -1.34283775 -1.31957948  0.34350655 -0.00197676\n",
            " -0.95919311  1.39350126 -0.76738158  0.26878205 -0.79800229 -0.82214608\n",
            "  1.32844456  1.74418169  1.30671745]\n",
            "[22.28988701 23.07355768 26.65716225 29.68042052 34.34350655 36.99802324\n",
            " 39.04080689 44.39350126 45.23261842 49.26878205 51.20199771 54.17785392\n",
            " 59.32844456 62.74418169 65.30671745]\n"
          ]
        }
      ]
    },
    {
      "cell_type": "code",
      "source": [
        ""
      ],
      "metadata": {
        "id": "7fRGctEgRWqg"
      },
      "execution_count": null,
      "outputs": []
    }
  ]
}